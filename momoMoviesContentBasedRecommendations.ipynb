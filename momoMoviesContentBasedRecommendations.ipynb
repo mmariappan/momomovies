{
 "cells": [
  {
   "cell_type": "markdown",
   "metadata": {},
   "source": [
    "# Content Based Movie Recommendation System\n",
    "This application uses a dataset called TheMoviesDatasets, which contains tens of thousands of different movies. From this large dataset, we used about 5,000 of the movies. Each of these movies hold additional information such as the genre, revenue, budget, release date, etc. The goal for this project is to give the user a recommendation of movies based of genres and keywords. \n",
    "\n",
    "Recommendation systems have become very popular in recent times, and not only have they been used for movies, but also for music, shopping items, etc. Many companies such as Spotify, Netflix, and Amazon have utilized this tool to give a better experience for the user. \n",
    "\n",
    "![example](./images/momomovies_banner_long.jpg)"
   ]
  },
  {
   "cell_type": "markdown",
   "metadata": {},
   "source": [
    "# Content-Based Recommendation Model\n",
    "This model is a Content Based Recommendation model that is seperated into 2 categories: genre and keywords. The model uses the concepts of Term Frequency (TF) and Inverse Document Frequency (IDF) to determine the relative importance of the genre or keyword. After calculating the TF-IDF values, in order to see how similar items are to each other, we used vector space modeling. Each item is stored as a vector, and the similarity can be correlated with the proximity between any two vectors. The proximity is found by taking the angle between the vectors. Then, using the TF-IDF scores and the vector space model, we can create a dot product that gives the value of the cosine similarity score. This score is a number than can be directly used to find the similarity between two movies. Through all that math and logic we successfully created a content based recommendation model that returns 10 similar movies based off a given movie the user chooses. Depending on what content based recommendation system the user picks, the 10 movies can be similar based off genre, or the keywords of the chosen movie.\n",
    "\n",
    "![tfidf](./images/TF-IDF_Sanjay.png)\n",
    "![tfidf](./images/Vector-Space-Model_Sanjay.png)"
   ]
  },
  {
   "cell_type": "code",
   "execution_count": 21,
   "metadata": {},
   "outputs": [],
   "source": [
    "import numpy as np\n",
    "import pandas as pd\n",
    "\n",
    "# Function that get movie recommendations based on the cosine similarity score of movie genres\n",
    "from sklearn.feature_extraction.text import TfidfVectorizer\n",
    "from sklearn.metrics.pairwise import linear_kernel"
   ]
  },
  {
   "cell_type": "code",
   "execution_count": 22,
   "metadata": {},
   "outputs": [],
   "source": [
    "\n",
    "# Define file directories\n",
    "MOVIES_DATA_DIR = './data/'\n",
    "MOVIES_CBR_CSV_FILE = MOVIES_DATA_DIR + 'movies_cbr_small.csv'\n",
    "MOVIE_TITLE_CSV_FILE = MOVIES_DATA_DIR + 'movie_titles.csv'\n",
    "\n",
    "def load_preprocess_movies_cbr_small(movies_cbr_small_filepath):\n",
    "    movies_cbr_small = pd.read_csv(movies_cbr_small_filepath, dtype='unicode')\n",
    "    movies_cbr_small[\"tmdbid\"] = movies_cbr_small[\"tmdbid\"].astype(str).astype('int64')\n",
    "    movies_cbr_small[\"imdbid\"] = movies_cbr_small[\"tmdbid\"].astype(str).astype('int64')\n",
    "    movies_cbr_small[\"budget\"] = movies_cbr_small[\"budget\"].astype(str).astype('int64')\n",
    "    movies_cbr_small[\"revenue\"] = movies_cbr_small[\"revenue\"].astype(str).astype('int64')\n",
    "    movies_cbr_small[\"runtime\"] = movies_cbr_small[\"runtime\"].astype(str).astype(float)\n",
    "    movies_cbr_small[\"vote_average\"] = movies_cbr_small[\"vote_average\"].astype(str).astype(float)\n",
    "    movies_cbr_small[\"vote_count\"] = movies_cbr_small[\"vote_count\"].astype(str).astype('int64')\n",
    "    movies_cbr_small['release_date'] = pd.to_datetime(movies_cbr_small['release_date'])\n",
    "    movies_cbr_small = movies_cbr_small.loc[(movies_cbr_small.budget > 0) & (movies_cbr_small.revenue > 0),:]\n",
    "    return movies_cbr_small\n",
    "\n",
    "def get_movie_titles_list(movie_titles_filepath):\n",
    "    #Load movieswithratings & create movies dataframe\n",
    "    df = pd.read_csv(movie_titles_filepath, dtype='unicode')\n",
    "    return ['Select a movie'] + df['title'].tolist()\n",
    "\n",
    "def get_cosine_sim(tfidf_matrix):\n",
    "    cosine_sim = linear_kernel(tfidf_matrix, tfidf_matrix)\n",
    "    return cosine_sim\n",
    "\n",
    "def genre_recommendations(title, cosine_sim,df):  \n",
    "    # Build a 1-dimensional array with movie titles\n",
    "    titles = df['title']\n",
    "    indices = pd.Series(df.index, index=df['title'])\n",
    "    try:\n",
    "        idx = indices[title]\n",
    "        sim_scores = list(enumerate(cosine_sim[idx]))\n",
    "        sim_scores = sorted(sim_scores, key=lambda x: x[1], reverse=True)\n",
    "        sim_scores = sim_scores[1:12]\n",
    "        movie_indices = [i[0] for i in sim_scores]\n",
    "        remove_title = False\n",
    "        for i in range(len(movie_indices)):\n",
    "            if movie_indices[i] == idx:\n",
    "                remove_title = True\n",
    "        if remove_title: movie_indices.remove(idx)\n",
    "        return titles.iloc[movie_indices[0:10]]\n",
    "    except KeyError:\n",
    "        return \"No recommendations found for this movie\"\n"
   ]
  },
  {
   "cell_type": "code",
   "execution_count": 23,
   "metadata": {},
   "outputs": [],
   "source": [
    "\n",
    "#get movies dataframe\n",
    "movies_cbr_small = load_preprocess_movies_cbr_small(MOVIES_CBR_CSV_FILE)\n",
    "\n",
    "#get the movie_titles dataframe\n",
    "movie_titles = get_movie_titles_list(MOVIE_TITLE_CSV_FILE)\n",
    "\n",
    "#Create tfidf matrix and cosine similarity by genre\n",
    "tf_genre = TfidfVectorizer(analyzer='word',ngram_range=(1, 2),min_df=0, stop_words='english')\n",
    "tfidf_matrix_genre = tf_genre.fit_transform(movies_cbr_small['genres_list'])\n",
    "cosine_sim_genre = get_cosine_sim(tfidf_matrix_genre)\n",
    "\n",
    "#Create tfidf matrix and cosine similarity by keywords\n",
    "tf_keywords = TfidfVectorizer(analyzer='word',ngram_range=(1, 2),min_df=0, stop_words='english')\n",
    "tfidf_matrix_keywords = tf_keywords.fit_transform(movies_cbr_small.loc[pd.notnull(movies_cbr_small['keywords_list']),'keywords_list'])\n",
    "cosine_sim_keywords = get_cosine_sim(tfidf_matrix_keywords)"
   ]
  },
  {
   "cell_type": "markdown",
   "metadata": {},
   "source": [
    "# Movie Recommendation System Sample Output Based on Genre\n",
    "The results below show the ten most similar movies to the Titanic (1997), based on the genres associated with that movie. Most of these movies would all contain Drama, Romance, and Thriller, just like the Titanic movie. "
   ]
  },
  {
   "cell_type": "code",
   "execution_count": 24,
   "metadata": {},
   "outputs": [
    {
     "data": {
      "text/plain": [
       "935             Cruel Intentions ( 1999 )\n",
       "1512                  Angel Eyes ( 2001 )\n",
       "1883           Absence of Malice ( 1981 )\n",
       "4661        Fifty Shades of Grey ( 2015 )\n",
       "2863             Man of the Year ( 2006 )\n",
       "3654                   Tere Naam ( 2003 )\n",
       "281                        Bound ( 1996 )\n",
       "570                      Witness ( 1985 )\n",
       "1078    Someone to Watch Over Me ( 1987 )\n",
       "1650           Play Misty for Me ( 1971 )\n",
       "Name: title, dtype: object"
      ]
     },
     "execution_count": 24,
     "metadata": {},
     "output_type": "execute_result"
    }
   ],
   "source": [
    "genre_recommendations('Titanic ( 1997 )',cosine_sim_genre,movies_cbr_small)"
   ]
  },
  {
   "cell_type": "markdown",
   "metadata": {},
   "source": [
    "# Movie Recommendation System Sample Output Based on Keywords\n",
    "The results below show the ten most similar movies to the Titanic (1997), based on the keywords associated with that movie. Most of these movies would all contain words like tragic love and shipwreck, just like the Titanic movie."
   ]
  },
  {
   "cell_type": "code",
   "execution_count": 25,
   "metadata": {},
   "outputs": [
    {
     "data": {
      "text/plain": [
       "1510                    Love Story ( 1970 )\n",
       "1727            A Walk to Remember ( 2002 )\n",
       "1214                       Titanic ( 1953 )\n",
       "3903                       In Time ( 2011 )\n",
       "652     You Can't Take It With You ( 1938 )\n",
       "4578                    Aashiqui 2 ( 2013 )\n",
       "1149                        Onegin ( 1999 )\n",
       "604                    Deep Rising ( 1998 )\n",
       "4469        The Fault in Our Stars ( 2014 )\n",
       "2667            Brokeback Mountain ( 2005 )\n",
       "Name: title, dtype: object"
      ]
     },
     "execution_count": 25,
     "metadata": {},
     "output_type": "execute_result"
    }
   ],
   "source": [
    "genre_recommendations('Titanic ( 1997 )',cosine_sim_keywords,movies_cbr_small)"
   ]
  }
 ],
 "metadata": {
  "kernelspec": {
   "display_name": "Python 3",
   "language": "python",
   "name": "python3"
  },
  "language_info": {
   "codemirror_mode": {
    "name": "ipython",
    "version": 3
   },
   "file_extension": ".py",
   "mimetype": "text/x-python",
   "name": "python",
   "nbconvert_exporter": "python",
   "pygments_lexer": "ipython3",
   "version": "3.8.3"
  }
 },
 "nbformat": 4,
 "nbformat_minor": 4
}
